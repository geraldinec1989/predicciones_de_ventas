{
  "nbformat": 4,
  "nbformat_minor": 0,
  "metadata": {
    "colab": {
      "provenance": []
    },
    "kernelspec": {
      "name": "python3",
      "display_name": "Python 3"
    },
    "language_info": {
      "name": "python"
    }
  },
  "cells": [
    {
      "cell_type": "code",
      "execution_count": 1,
      "metadata": {
        "id": "H-asln_uuxsm"
      },
      "outputs": [],
      "source": [
        "import pandas as pd\n",
        "import pandas as pd\n",
        "import numpy as np\n",
        "from sklearn.pipeline import make_pipeline\n",
        "from sklearn.impute import SimpleImputer\n",
        "from sklearn.preprocessing import StandardScaler\n",
        "from sklearn.model_selection import train_test_split\n",
        "from sklearn import set_config"
      ]
    },
    {
      "cell_type": "code",
      "source": [
        "from google.colab import drive\n",
        "drive.mount('/content/drive')"
      ],
      "metadata": {
        "colab": {
          "base_uri": "https://localhost:8080/"
        },
        "id": "SpfuKt2T2mze",
        "outputId": "b1137455-c48d-469a-a3fa-059c99505fe9"
      },
      "execution_count": 2,
      "outputs": [
        {
          "output_type": "stream",
          "name": "stdout",
          "text": [
            "Mounted at /content/drive\n"
          ]
        }
      ]
    },
    {
      "cell_type": "code",
      "source": [
        "df = pd.read_csv('/content/drive/MyDrive/Codin Dojo/sales_predictions_2023 (1).csv')"
      ],
      "metadata": {
        "id": "qsKRQw5V2iXe"
      },
      "execution_count": 3,
      "outputs": []
    },
    {
      "cell_type": "code",
      "source": [
        "df.info()"
      ],
      "metadata": {
        "colab": {
          "base_uri": "https://localhost:8080/"
        },
        "id": "VMkFMGDN3mQP",
        "outputId": "2907b431-0f31-4307-c631-aa8bc3cdb675"
      },
      "execution_count": 4,
      "outputs": [
        {
          "output_type": "stream",
          "name": "stdout",
          "text": [
            "<class 'pandas.core.frame.DataFrame'>\n",
            "RangeIndex: 8523 entries, 0 to 8522\n",
            "Data columns (total 12 columns):\n",
            " #   Column                     Non-Null Count  Dtype  \n",
            "---  ------                     --------------  -----  \n",
            " 0   Item_Identifier            8523 non-null   object \n",
            " 1   Item_Weight                7060 non-null   float64\n",
            " 2   Item_Fat_Content           8523 non-null   object \n",
            " 3   Item_Visibility            8523 non-null   float64\n",
            " 4   Item_Type                  8523 non-null   object \n",
            " 5   Item_MRP                   8523 non-null   float64\n",
            " 6   Outlet_Identifier          8523 non-null   object \n",
            " 7   Outlet_Establishment_Year  8523 non-null   int64  \n",
            " 8   Outlet_Size                6113 non-null   object \n",
            " 9   Outlet_Location_Type       8523 non-null   object \n",
            " 10  Outlet_Type                8523 non-null   object \n",
            " 11  Item_Outlet_Sales          8523 non-null   float64\n",
            "dtypes: float64(4), int64(1), object(7)\n",
            "memory usage: 799.2+ KB\n"
          ]
        }
      ]
    },
    {
      "cell_type": "code",
      "source": [
        "df.duplicated()"
      ],
      "metadata": {
        "colab": {
          "base_uri": "https://localhost:8080/"
        },
        "id": "aVHkALnV3qWZ",
        "outputId": "318fbecf-d582-4ccb-c404-adbe9b84433a"
      },
      "execution_count": 5,
      "outputs": [
        {
          "output_type": "execute_result",
          "data": {
            "text/plain": [
              "0       False\n",
              "1       False\n",
              "2       False\n",
              "3       False\n",
              "4       False\n",
              "        ...  \n",
              "8518    False\n",
              "8519    False\n",
              "8520    False\n",
              "8521    False\n",
              "8522    False\n",
              "Length: 8523, dtype: bool"
            ]
          },
          "metadata": {},
          "execution_count": 5
        }
      ]
    },
    {
      "cell_type": "code",
      "source": [],
      "metadata": {
        "id": "kL-l7qe9gkFM"
      },
      "execution_count": null,
      "outputs": []
    },
    {
      "cell_type": "code",
      "source": [
        "#RELLENAR LOS NULOS\n"
      ],
      "metadata": {
        "id": "4oYzy6BN3535"
      },
      "execution_count": null,
      "outputs": []
    },
    {
      "cell_type": "code",
      "source": [
        "#I dentifiquen las características (X) y el objetivo (y): Asignen la columna \"Item_Outlet_Sales\"\n",
        "#como el objetivo y el resto de las variables relevantes como la matriz de características.\n",
        "\n",
        "y = df['Item_Outlet_Sales']\n",
        "# Las características que se usarán para hacer la predicción\n",
        "X = df.drop(columns = 'Item_Outlet_Sales')"
      ],
      "metadata": {
        "id": "qsQb7aWK0KpW"
      },
      "execution_count": 6,
      "outputs": []
    },
    {
      "cell_type": "code",
      "source": [
        "#Realicen un train test split\n",
        "\n",
        "X_train, X_test, y_train, y_test = train_test_split(X, y, random_state = 42)\n",
        "\n",
        "# Imprimir las formas de los conjuntos de entrenamiento y prueba para verificar\n",
        "print(\"Forma de X_train:\", X_train.shape)\n",
        "print(\"Forma de y_train:\", y_train.shape)\n",
        "print(\"Forma de X_test:\", X_test.shape)\n",
        "print(\"Forma de y_test:\", y_test.shape)"
      ],
      "metadata": {
        "id": "IDb6rTpGHNJl",
        "colab": {
          "base_uri": "https://localhost:8080/"
        },
        "outputId": "0f8e14db-7a31-4f95-c6c4-26ed82ed42f0"
      },
      "execution_count": 14,
      "outputs": [
        {
          "output_type": "stream",
          "name": "stdout",
          "text": [
            "Forma de X_train: (6392, 11)\n",
            "Forma de y_train: (6392,)\n",
            "Forma de X_test: (2131, 11)\n",
            "Forma de y_test: (2131,)\n"
          ]
        }
      ]
    },
    {
      "cell_type": "code",
      "source": [
        "#Creen un pipeline de preprocesamiento para preparar el conjunto de datos para aprendizaje automático.\n",
        "# Imports\n",
        "import pandas as pd\n",
        "import numpy as np\n",
        "from sklearn.pipeline import make_pipeline\n",
        "from sklearn.impute import SimpleImputer\n",
        "from sklearn.preprocessing import StandardScaler\n",
        "from sklearn.model_selection import train_test_split\n",
        "from sklearn import set_config\n",
        "from sklearn.compose import make_column_selector as selector\n",
        "from sklearn.preprocessing import OneHotEncoder\n",
        "from sklearn.pipeline import Pipeline\n",
        "from sklearn.compose import ColumnTransformer\n",
        "# Define las columnas numéricas y categóricas automáticamente\n",
        "numeric_features = selector(dtype_include='number')\n",
        "categorical_features = selector(dtype_exclude='number')\n",
        "\n",
        "# Pipeline para características numéricas\n",
        "numeric_transformer = Pipeline(steps=[\n",
        "    ('imputer', SimpleImputer(strategy='mean')),  # Manejo de valores faltantes\n",
        "    ('scaler', StandardScaler())  # Escalado de características\n",
        "])\n",
        "\n",
        "# Pipeline para características categóricas\n",
        "categorical_transformer = Pipeline(steps=[\n",
        "    ('imputer', SimpleImputer(strategy='most_frequent')),  # Manejo de valores faltantes\n",
        "    ('onehot', OneHotEncoder(handle_unknown='ignore'))  # Codificación one-hot\n",
        "])\n",
        "\n",
        "# Combinar transformadores numéricos y categóricos\n",
        "preprocessor = ColumnTransformer(\n",
        "    transformers=[\n",
        "        ('num', numeric_transformer, numeric_features),\n",
        "        ('cat', categorical_transformer, categorical_features)\n",
        "    ])\n",
        "\n",
        "# Crear el pipeline completo\n",
        "pipeline = Pipeline(steps=[('preprocessor', preprocessor)])\n",
        "\n",
        "# Aplicar el pipeline de preprocesamiento a los conjuntos de datos de entrenamiento y prueba\n",
        "X_train_preprocessed = pipeline.fit_transform(X_train)\n",
        "X_test_preprocessed = pipeline.transform(X_test)\n",
        "\n",
        "# Verificar la forma de los datos preprocesados\n",
        "print(\"Forma de X_train_preprocessed:\", X_train_preprocessed.shape)\n",
        "print(\"Forma de X_test_preprocessed:\", X_test_preprocessed.shape)\n",
        "\n"
      ],
      "metadata": {
        "id": "duQrDtzc2Rtv",
        "colab": {
          "base_uri": "https://localhost:8080/"
        },
        "outputId": "3a2628b5-f143-4e14-b4d2-5ad2b705b30a"
      },
      "execution_count": 13,
      "outputs": [
        {
          "output_type": "stream",
          "name": "stdout",
          "text": [
            "Forma de X_train_preprocessed: (6392, 1595)\n",
            "Forma de X_test_preprocessed: (2131, 1595)\n"
          ]
        }
      ]
    }
  ]
}