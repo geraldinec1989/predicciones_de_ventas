{
  "nbformat": 4,
  "nbformat_minor": 0,
  "metadata": {
    "colab": {
      "provenance": []
    },
    "kernelspec": {
      "name": "python3",
      "display_name": "Python 3"
    },
    "language_info": {
      "name": "python"
    }
  },
  "cells": [
    {
      "cell_type": "code",
      "execution_count": 1,
      "metadata": {
        "id": "qkWMucBdXotP"
      },
      "outputs": [],
      "source": [
        "import pandas as pd"
      ]
    },
    {
      "cell_type": "code",
      "source": [
        "df = pd.read_csv('/content/drive/MyDrive/Codin Dojo/sales_predictions_2023 (1).csv')"
      ],
      "metadata": {
        "id": "11ccXJSlyFW7"
      },
      "execution_count": 2,
      "outputs": []
    },
    {
      "cell_type": "code",
      "source": [
        "#1) ¿Cuántas filas y columnas hay?\n",
        "#hay 8523 filas y 12 columnas\n",
        "df.shape\n",
        "\n"
      ],
      "metadata": {
        "colab": {
          "base_uri": "https://localhost:8080/"
        },
        "id": "1nEDDJckyFj7",
        "outputId": "b9dc6a77-4794-4464-f850-6f0bc9053e9e"
      },
      "execution_count": 3,
      "outputs": [
        {
          "output_type": "execute_result",
          "data": {
            "text/plain": [
              "(8523, 12)"
            ]
          },
          "metadata": {},
          "execution_count": 3
        }
      ]
    },
    {
      "cell_type": "code",
      "source": [
        "#2) ¿Cuáles son los tipos de datos de cada variable?\n",
        "df.info()"
      ],
      "metadata": {
        "colab": {
          "base_uri": "https://localhost:8080/"
        },
        "id": "dNdegq7hyyJz",
        "outputId": "2bd13f7d-71a2-4285-c8ec-900d09f2e776"
      },
      "execution_count": 5,
      "outputs": [
        {
          "output_type": "stream",
          "name": "stdout",
          "text": [
            "<class 'pandas.core.frame.DataFrame'>\n",
            "RangeIndex: 8523 entries, 0 to 8522\n",
            "Data columns (total 12 columns):\n",
            " #   Column                     Non-Null Count  Dtype  \n",
            "---  ------                     --------------  -----  \n",
            " 0   Item_Identifier            8523 non-null   object \n",
            " 1   Item_Weight                7060 non-null   float64\n",
            " 2   Item_Fat_Content           8523 non-null   object \n",
            " 3   Item_Visibility            8523 non-null   float64\n",
            " 4   Item_Type                  8523 non-null   object \n",
            " 5   Item_MRP                   8523 non-null   float64\n",
            " 6   Outlet_Identifier          8523 non-null   object \n",
            " 7   Outlet_Establishment_Year  8523 non-null   int64  \n",
            " 8   Outlet_Size                6113 non-null   object \n",
            " 9   Outlet_Location_Type       8523 non-null   object \n",
            " 10  Outlet_Type                8523 non-null   object \n",
            " 11  Item_Outlet_Sales          8523 non-null   float64\n",
            "dtypes: float64(4), int64(1), object(7)\n",
            "memory usage: 799.2+ KB\n"
          ]
        }
      ]
    },
    {
      "cell_type": "code",
      "source": [
        "#3) ¿Hay duplicados? Si es el caso, elimínelos.\n",
        "#no hay valores duplicados\n",
        "duplicados=df.duplicated().sum()\n",
        "print (duplicados)"
      ],
      "metadata": {
        "colab": {
          "base_uri": "https://localhost:8080/"
        },
        "id": "dPFSJp8mzWnL",
        "outputId": "59b8578a-47a0-4685-879d-7277018510d9"
      },
      "execution_count": 7,
      "outputs": [
        {
          "output_type": "stream",
          "name": "stdout",
          "text": [
            "0\n"
          ]
        }
      ]
    },
    {
      "cell_type": "code",
      "source": [
        "#4) Identifique los valores faltantes.\n",
        "\n",
        "df.isnull().sum()"
      ],
      "metadata": {
        "colab": {
          "base_uri": "https://localhost:8080/"
        },
        "id": "Kjnv7xrvznvJ",
        "outputId": "a08a86e5-6cde-49de-88a2-8c8c423fbc41"
      },
      "execution_count": 8,
      "outputs": [
        {
          "output_type": "execute_result",
          "data": {
            "text/plain": [
              "Item_Identifier                 0\n",
              "Item_Weight                  1463\n",
              "Item_Fat_Content                0\n",
              "Item_Visibility                 0\n",
              "Item_Type                       0\n",
              "Item_MRP                        0\n",
              "Outlet_Identifier               0\n",
              "Outlet_Establishment_Year       0\n",
              "Outlet_Size                  2410\n",
              "Outlet_Location_Type            0\n",
              "Outlet_Type                     0\n",
              "Item_Outlet_Sales               0\n",
              "dtype: int64"
            ]
          },
          "metadata": {},
          "execution_count": 8
        }
      ]
    },
    {
      "cell_type": "code",
      "source": [
        "#5) Decida qué hacer con los valores faltantes y cómo hacerlo. (Esto requiere de su criterio, así que explique cada elección).\n",
        "#En este caso se toma la desición de rellenar con la moda. porque es el número que más se repite.\n",
        "df.Item_Weight.value_counts()\n",
        "df.Outlet_Size.value_counts()\n",
        "\n"
      ],
      "metadata": {
        "colab": {
          "base_uri": "https://localhost:8080/"
        },
        "id": "VwJ13YTB0XSO",
        "outputId": "da36cf2a-6d3d-43a4-aff0-0524a2eb4bcf"
      },
      "execution_count": 10,
      "outputs": [
        {
          "output_type": "execute_result",
          "data": {
            "text/plain": [
              "Outlet_Size\n",
              "Medium    2793\n",
              "Small     2388\n",
              "High       932\n",
              "Name: count, dtype: int64"
            ]
          },
          "metadata": {},
          "execution_count": 10
        }
      ]
    },
    {
      "cell_type": "code",
      "source": [
        "# Primero Calculo la moda de la columna 'Item_Weight'\n",
        "moda_peso_item = df['Item_Weight'].mode()[0]\n",
        "\n",
        "# Luego Relleno los valores faltantes en la columna 'Item_Weight' con la moda\n",
        "df['Item_Weight'] = df['Item_Weight'].fillna(moda_peso_item)\n",
        "\n",
        "print(df['Item_Weight'])\n"
      ],
      "metadata": {
        "colab": {
          "base_uri": "https://localhost:8080/"
        },
        "id": "WOtWpy3O2Hzb",
        "outputId": "c05068cc-8911-42e9-cb0b-792c6e358096"
      },
      "execution_count": 13,
      "outputs": [
        {
          "output_type": "stream",
          "name": "stdout",
          "text": [
            "0        9.300\n",
            "1        5.920\n",
            "2       17.500\n",
            "3       19.200\n",
            "4        8.930\n",
            "         ...  \n",
            "8518     6.865\n",
            "8519     8.380\n",
            "8520    10.600\n",
            "8521     7.210\n",
            "8522    14.800\n",
            "Name: Item_Weight, Length: 8523, dtype: float64\n"
          ]
        }
      ]
    },
    {
      "cell_type": "code",
      "source": [
        "#Con la segunda tabla hago lo mismo\n",
        "# Primero Calculo la moda de la columna 'Item_Weight'\n",
        "moda_peso_item = df['Outlet_Size'].mode()[0]\n",
        "\n",
        "# Luego Relleno los valores faltantes en la columna 'Item_Weight' con la moda\n",
        "df['Outlet_Size'] = df['Outlet_Size'].fillna(moda_peso_item)\n",
        "\n",
        "print(df['Outlet_Size'])"
      ],
      "metadata": {
        "colab": {
          "base_uri": "https://localhost:8080/"
        },
        "id": "2Vg98ULn2Zr1",
        "outputId": "806445a2-969a-47d7-97a5-fd77aef969cd"
      },
      "execution_count": 14,
      "outputs": [
        {
          "output_type": "stream",
          "name": "stdout",
          "text": [
            "0       Medium\n",
            "1       Medium\n",
            "2       Medium\n",
            "3       Medium\n",
            "4         High\n",
            "         ...  \n",
            "8518      High\n",
            "8519    Medium\n",
            "8520     Small\n",
            "8521    Medium\n",
            "8522     Small\n",
            "Name: Outlet_Size, Length: 8523, dtype: object\n"
          ]
        }
      ]
    },
    {
      "cell_type": "code",
      "source": [
        "#6) Confirme que no hay valores faltantes después de tratarlos.\n",
        "#Todo ok.\n",
        "df.isnull().sum()"
      ],
      "metadata": {
        "colab": {
          "base_uri": "https://localhost:8080/"
        },
        "id": "bbAxsbgl20Rl",
        "outputId": "604e9e64-fa36-4fe6-88c7-7e06e68cac59"
      },
      "execution_count": 15,
      "outputs": [
        {
          "output_type": "execute_result",
          "data": {
            "text/plain": [
              "Item_Identifier              0\n",
              "Item_Weight                  0\n",
              "Item_Fat_Content             0\n",
              "Item_Visibility              0\n",
              "Item_Type                    0\n",
              "Item_MRP                     0\n",
              "Outlet_Identifier            0\n",
              "Outlet_Establishment_Year    0\n",
              "Outlet_Size                  0\n",
              "Outlet_Location_Type         0\n",
              "Outlet_Type                  0\n",
              "Item_Outlet_Sales            0\n",
              "dtype: int64"
            ]
          },
          "metadata": {},
          "execution_count": 15
        }
      ]
    },
    {
      "cell_type": "code",
      "source": [
        "#7) Encuentre y arregle cualquier categoría inconsistente en los datos (ejemplo: arreglar los datos gato,\n",
        "# Gato y Gatos de manera que sean consistentes)\n",
        "#print(df['Item_Identifier'].unique())\n",
        "#conteo_categorias = df['Item_Identifier'].value_counts()\n",
        "#print(conteo_categorias)\n",
        "\n",
        "agrupado_por_categoria = df.groupby('Outlet_Type').size()\n",
        "print(agrupado_por_categoria)\n"
      ],
      "metadata": {
        "colab": {
          "base_uri": "https://localhost:8080/"
        },
        "id": "lD-6MfmX28H0",
        "outputId": "1607433f-8662-414a-e40f-8867b27d698c"
      },
      "execution_count": 23,
      "outputs": [
        {
          "output_type": "stream",
          "name": "stdout",
          "text": [
            "Outlet_Type\n",
            "Grocery Store        1083\n",
            "Supermarket Type1    5577\n",
            "Supermarket Type2     928\n",
            "Supermarket Type3     935\n",
            "dtype: int64\n"
          ]
        }
      ]
    },
    {
      "cell_type": "code",
      "source": [
        "#8) Para cualquier columna numérica, obtenga las estadísticas resumidas de cada una (mínimo, máximo y media)\n",
        "estadisticas = df['Item_Weight'].describe()\n",
        "print(estadisticas)\n"
      ],
      "metadata": {
        "colab": {
          "base_uri": "https://localhost:8080/"
        },
        "id": "w5cb7oRN3IRM",
        "outputId": "669db22f-7d0f-43bb-c7d3-773017d0833f"
      },
      "execution_count": 30,
      "outputs": [
        {
          "output_type": "stream",
          "name": "stdout",
          "text": [
            "count    8523.000000\n",
            "mean       12.736176\n",
            "std         4.234540\n",
            "min         4.555000\n",
            "25%         9.310000\n",
            "50%        12.150000\n",
            "75%        16.000000\n",
            "max        21.350000\n",
            "Name: Item_Weight, dtype: float64\n"
          ]
        }
      ]
    },
    {
      "cell_type": "code",
      "source": [
        "estadisticas = df['Item_Visibility'].describe()\n",
        "print(estadisticas)"
      ],
      "metadata": {
        "colab": {
          "base_uri": "https://localhost:8080/"
        },
        "id": "GaERTuh_62cd",
        "outputId": "3d16c103-7fef-4ef7-de04-168fcd5ab141"
      },
      "execution_count": 25,
      "outputs": [
        {
          "output_type": "stream",
          "name": "stdout",
          "text": [
            "count    8523.000000\n",
            "mean        0.066132\n",
            "std         0.051598\n",
            "min         0.000000\n",
            "25%         0.026989\n",
            "50%         0.053931\n",
            "75%         0.094585\n",
            "max         0.328391\n",
            "Name: Item_Visibility, dtype: float64\n"
          ]
        }
      ]
    },
    {
      "cell_type": "code",
      "source": [
        "estadisticas = df['Item_MRP'].describe()\n",
        "print(estadisticas)"
      ],
      "metadata": {
        "colab": {
          "base_uri": "https://localhost:8080/"
        },
        "id": "CIXBENl-6-22",
        "outputId": "9f1d23e0-382e-4b80-c985-f70729a0bd48"
      },
      "execution_count": 26,
      "outputs": [
        {
          "output_type": "stream",
          "name": "stdout",
          "text": [
            "count    8523.000000\n",
            "mean      140.992782\n",
            "std        62.275067\n",
            "min        31.290000\n",
            "25%        93.826500\n",
            "50%       143.012800\n",
            "75%       185.643700\n",
            "max       266.888400\n",
            "Name: Item_MRP, dtype: float64\n"
          ]
        }
      ]
    },
    {
      "cell_type": "code",
      "source": [
        "estadisticas = df['Outlet_Establishment_Year'].describe()\n",
        "print(estadisticas)"
      ],
      "metadata": {
        "colab": {
          "base_uri": "https://localhost:8080/"
        },
        "id": "P0rJnAyg7HEw",
        "outputId": "d468bcbd-2091-4dbe-82a2-450366a86e98"
      },
      "execution_count": 27,
      "outputs": [
        {
          "output_type": "stream",
          "name": "stdout",
          "text": [
            "count    8523.000000\n",
            "mean     1997.831867\n",
            "std         8.371760\n",
            "min      1985.000000\n",
            "25%      1987.000000\n",
            "50%      1999.000000\n",
            "75%      2004.000000\n",
            "max      2009.000000\n",
            "Name: Outlet_Establishment_Year, dtype: float64\n"
          ]
        }
      ]
    },
    {
      "cell_type": "code",
      "source": [
        "estadisticas = df['Outlet_Establishment_Year'].describe()\n",
        "print(estadisticas)"
      ],
      "metadata": {
        "colab": {
          "base_uri": "https://localhost:8080/"
        },
        "id": "pKiljItc7OZT",
        "outputId": "ea64311a-c093-48aa-8877-9f1f23abe945"
      },
      "execution_count": 28,
      "outputs": [
        {
          "output_type": "stream",
          "name": "stdout",
          "text": [
            "count    8523.000000\n",
            "mean     1997.831867\n",
            "std         8.371760\n",
            "min      1985.000000\n",
            "25%      1987.000000\n",
            "50%      1999.000000\n",
            "75%      2004.000000\n",
            "max      2009.000000\n",
            "Name: Outlet_Establishment_Year, dtype: float64\n"
          ]
        }
      ]
    },
    {
      "cell_type": "code",
      "source": [
        "estadisticas = df['Item_Outlet_Sales'].describe()\n",
        "print(estadisticas)\n",
        "\n"
      ],
      "metadata": {
        "colab": {
          "base_uri": "https://localhost:8080/"
        },
        "id": "_cvkh5ae7XDY",
        "outputId": "2bc24c67-6d81-4bf6-dbfa-1fdb7b58cfbc"
      },
      "execution_count": 29,
      "outputs": [
        {
          "output_type": "stream",
          "name": "stdout",
          "text": [
            "count     8523.000000\n",
            "mean      2181.288914\n",
            "std       1706.499616\n",
            "min         33.290000\n",
            "25%        834.247400\n",
            "50%       1794.331000\n",
            "75%       3101.296400\n",
            "max      13086.964800\n",
            "Name: Item_Outlet_Sales, dtype: float64\n"
          ]
        }
      ]
    }
  ]
}